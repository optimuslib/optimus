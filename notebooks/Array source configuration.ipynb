{
 "cells": [
  {
   "cell_type": "markdown",
   "metadata": {},
   "source": [
    "# Simulate acoustic wave propagation of an array source\n",
    "\n",
    "\n",
    "The OptimUS library provides functionality to simulate acoustic wave propagation in unbounded domains with homogeneous scatterers. This notebook demonstrates the configuration of array transducers.\n"
   ]
  },
  {
   "cell_type": "markdown",
   "metadata": {},
   "source": [
    "## Import the OptimUS library\n",
    "\n",
    "Load the OptimUS library."
   ]
  },
  {
   "cell_type": "code",
   "execution_count": 1,
   "metadata": {},
   "outputs": [],
   "source": [
    "# Make sure the OptimUS library is in the Python path.\n",
    "import sys\n",
    "sys.path.append('..')"
   ]
  },
  {
   "cell_type": "code",
   "execution_count": 2,
   "metadata": {},
   "outputs": [],
   "source": [
    "import optimus\n",
    "import numpy as np"
   ]
  },
  {
   "cell_type": "markdown",
   "metadata": {},
   "source": [
    "## Specify the array parameters\n",
    "\n",
    "The OptimUS library provides functionality to simulate acoustic wave propagation. For each simulation, one needs to specify the type of source of the acoustic field, the geometry of the scatterer, and the material parameters."
   ]
  },
  {
   "cell_type": "markdown",
   "metadata": {},
   "source": [
    "## Specify the array parameters\n",
    "\n",
    "The OptimUS library provides different predefined wave fields, among which is a multi-element array source radiating in 2*pi space. The array requires the frequency, the element radius and the locations of the centroids of the circular piston elements. The radius of curvature is inferred from the centroid locations. Optionally, the source axis, the piston velocities and the source location may be specified."
   ]
  },
  {
   "cell_type": "markdown",
   "metadata": {},
   "source": [
    "### Load centroid locations from file\n",
    "\n",
    "The centroid locations of the transducer elements in the array can be loaded from a file as follows"
   ]
  },
  {
   "cell_type": "code",
   "execution_count": 3,
   "metadata": {},
   "outputs": [],
   "source": [
    "frequency = 1e6\n",
    "a = 3e-3\n",
    "centroid_file = 'default_random_array_centroid_locations.dat'"
   ]
  },
  {
   "cell_type": "code",
   "execution_count": 4,
   "metadata": {},
   "outputs": [],
   "source": [
    "source = optimus.source.create_array(frequency, element_radius=a, centroid_locations_filename=centroid_file)"
   ]
  },
  {
   "cell_type": "markdown",
   "metadata": {},
   "source": [
    "### Specify uniform velocity\n",
    "\n",
    "For a uniform array, the velocity can be specified as a scalar. A spherical focusing velocity vector is created from this value so that all elements vibrate in phase and at the same speed."
   ]
  },
  {
   "cell_type": "code",
   "execution_count": 5,
   "metadata": {},
   "outputs": [],
   "source": [
    "velocity = 0.4\n",
    "source = optimus.source.create_array(frequency, element_radius=a, centroid_locations_filename=centroid_file,\n",
    "                                     velocity=velocity)"
   ]
  },
  {
   "cell_type": "markdown",
   "metadata": {},
   "source": [
    "### Specify different velocities\n",
    "\n",
    "For an array with transducers vibrating at different velocities or phases, one can specify an array with the complex-valued velocity."
   ]
  },
  {
   "cell_type": "code",
   "execution_count": 6,
   "metadata": {},
   "outputs": [],
   "source": [
    "rand_velocity = np.random.rand(256) + 1j * np.random.rand(256)\n",
    "source = optimus.source.create_array(frequency, element_radius=a, centroid_locations_filename=centroid_file,\n",
    "                                     velocity=rand_velocity)"
   ]
  },
  {
   "cell_type": "markdown",
   "metadata": {},
   "source": [
    "### Check centroid locations for spherical section arrays\n",
    "\n",
    "The array is assumed to be a section of sphere. OptimUS checks if the centroid locations are actually on a sphere. The following example raises a value error."
   ]
  },
  {
   "cell_type": "code",
   "execution_count": 7,
   "metadata": {},
   "outputs": [
    {
     "ename": "ValueError",
     "evalue": "Array element centroid locations do not appear to lie on a sphere.",
     "output_type": "error",
     "traceback": [
      "\u001b[0;31m---------------------------------------------------------------------------\u001b[0m",
      "\u001b[0;31mValueError\u001b[0m                                Traceback (most recent call last)",
      "\u001b[0;32m<ipython-input-7-439fe6768456>\u001b[0m in \u001b[0;36m<module>\u001b[0;34m\u001b[0m\n\u001b[1;32m      1\u001b[0m \u001b[0mrand_centroid_locations\u001b[0m \u001b[0;34m=\u001b[0m \u001b[0mnp\u001b[0m\u001b[0;34m.\u001b[0m\u001b[0mrandom\u001b[0m\u001b[0;34m.\u001b[0m\u001b[0mrand\u001b[0m\u001b[0;34m(\u001b[0m\u001b[0;36m3\u001b[0m\u001b[0;34m,\u001b[0m\u001b[0;36m256\u001b[0m\u001b[0;34m)\u001b[0m\u001b[0;34m\u001b[0m\u001b[0m\n\u001b[0;32m----> 2\u001b[0;31m \u001b[0msource\u001b[0m \u001b[0;34m=\u001b[0m \u001b[0moptimus\u001b[0m\u001b[0;34m.\u001b[0m\u001b[0msource\u001b[0m\u001b[0;34m.\u001b[0m\u001b[0mcreate_array\u001b[0m\u001b[0;34m(\u001b[0m\u001b[0mfrequency\u001b[0m\u001b[0;34m,\u001b[0m \u001b[0melement_radius\u001b[0m\u001b[0;34m=\u001b[0m\u001b[0ma\u001b[0m\u001b[0;34m,\u001b[0m \u001b[0mcentroid_locations\u001b[0m\u001b[0;34m=\u001b[0m\u001b[0mrand_centroid_locations\u001b[0m\u001b[0;34m)\u001b[0m\u001b[0;34m\u001b[0m\u001b[0m\n\u001b[0m",
      "\u001b[0;32m/home/bempp/localwork/optimuslib/optimus/optimus/source/array.py\u001b[0m in \u001b[0;36mcreate_array\u001b[0;34m(frequency, element_radius, velocity, source_axis, number_of_point_sources_per_wavelength, location, centroid_locations, centroid_locations_filename)\u001b[0m\n\u001b[1;32m     64\u001b[0m         \u001b[0mlocation\u001b[0m\u001b[0;34m,\u001b[0m\u001b[0;34m\u001b[0m\u001b[0m\n\u001b[1;32m     65\u001b[0m         \u001b[0mcentroid_locations\u001b[0m\u001b[0;34m,\u001b[0m\u001b[0;34m\u001b[0m\u001b[0m\n\u001b[0;32m---> 66\u001b[0;31m         \u001b[0mcentroid_locations_filename\u001b[0m\u001b[0;34m,\u001b[0m\u001b[0;34m\u001b[0m\u001b[0m\n\u001b[0m\u001b[1;32m     67\u001b[0m     )\n\u001b[1;32m     68\u001b[0m \u001b[0;34m\u001b[0m\u001b[0m\n",
      "\u001b[0;32m/home/bempp/localwork/optimuslib/optimus/optimus/source/array.py\u001b[0m in \u001b[0;36m__init__\u001b[0;34m(self, frequency, element_radius, velocity, source_axis, number_of_point_sources_per_wavelength, location, centroid_locations, centroid_locations_filename)\u001b[0m\n\u001b[1;32m    108\u001b[0m \u001b[0;34m\u001b[0m\u001b[0m\n\u001b[1;32m    109\u001b[0m         self.radius_of_curvature = self._calc_radius_of_curvature(\n\u001b[0;32m--> 110\u001b[0;31m             \u001b[0mself\u001b[0m\u001b[0;34m.\u001b[0m\u001b[0mcentroid_locations\u001b[0m\u001b[0;34m\u001b[0m\u001b[0m\n\u001b[0m\u001b[1;32m    111\u001b[0m         )\n\u001b[1;32m    112\u001b[0m \u001b[0;34m\u001b[0m\u001b[0m\n",
      "\u001b[0;32m/home/bempp/localwork/optimuslib/optimus/optimus/source/array.py\u001b[0m in \u001b[0;36m_calc_radius_of_curvature\u001b[0;34m(self, centroid_locations)\u001b[0m\n\u001b[1;32m    177\u001b[0m         \u001b[0;32mif\u001b[0m \u001b[0mcentroid_locations_l2_norm_std\u001b[0m \u001b[0;34m>\u001b[0m \u001b[0mradius_of_curvature_tol\u001b[0m\u001b[0;34m:\u001b[0m\u001b[0;34m\u001b[0m\u001b[0m\n\u001b[1;32m    178\u001b[0m             raise ValueError(\n\u001b[0;32m--> 179\u001b[0;31m                 \u001b[0;34m\"Array element centroid locations do not appear to lie on a sphere.\"\u001b[0m\u001b[0;34m\u001b[0m\u001b[0m\n\u001b[0m\u001b[1;32m    180\u001b[0m             )\n\u001b[1;32m    181\u001b[0m \u001b[0;34m\u001b[0m\u001b[0m\n",
      "\u001b[0;31mValueError\u001b[0m: Array element centroid locations do not appear to lie on a sphere."
     ]
    }
   ],
   "source": [
    "rand_centroid_locations = np.random.rand(3,256)\n",
    "source = optimus.source.create_array(frequency, element_radius=a, centroid_locations=rand_centroid_locations)"
   ]
  },
  {
   "cell_type": "code",
   "execution_count": null,
   "metadata": {},
   "outputs": [],
   "source": []
  }
 ],
 "metadata": {
  "kernelspec": {
   "display_name": "Python 3",
   "language": "python",
   "name": "python3"
  },
  "language_info": {
   "codemirror_mode": {
    "name": "ipython",
    "version": 3
   },
   "file_extension": ".py",
   "mimetype": "text/x-python",
   "name": "python",
   "nbconvert_exporter": "python",
   "pygments_lexer": "ipython3",
   "version": "3.5.2"
  }
 },
 "nbformat": 4,
 "nbformat_minor": 4
}
