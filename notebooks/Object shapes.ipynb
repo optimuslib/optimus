{
 "cells": [
  {
   "cell_type": "markdown",
   "metadata": {},
   "source": [
    "# Set the shape of the object\n",
    "\n",
    "\n",
    "The OptimUS library provides functionality to simulate acoustic wave propagation in unbounded domains with homogeneous scatterers. This notebook demonstrates functionality regarding the shape of the object."
   ]
  },
  {
   "cell_type": "markdown",
   "metadata": {},
   "source": [
    "## Import the OptimUS library\n",
    "\n",
    "Load the OptimUS library."
   ]
  },
  {
   "cell_type": "code",
   "execution_count": 1,
   "metadata": {},
   "outputs": [],
   "source": [
    "# Make sure the OptimUS library is in the Python path.\n",
    "import sys\n",
    "sys.path.append('..')"
   ]
  },
  {
   "cell_type": "code",
   "execution_count": 2,
   "metadata": {},
   "outputs": [],
   "source": [
    "import optimus"
   ]
  },
  {
   "cell_type": "markdown",
   "metadata": {},
   "source": [
    "## Specify the shape of the object\n",
    "\n",
    "The OptimUS library provides different shapes of canonical objects, such as a sphere, ellipsoid, and cube. Alternatively, a triangular surface mesh can be imported."
   ]
  },
  {
   "cell_type": "markdown",
   "metadata": {},
   "source": [
    "Let us create a standard spherical object and store the mesh to disk. The exported mesh has a Gmsh format and can be opened with external grid visualisation software."
   ]
  },
  {
   "cell_type": "code",
   "execution_count": 3,
   "metadata": {},
   "outputs": [],
   "source": [
    "sphere = optimus.geometry.shapes.Sphere(radius=1, origin=(0, 0, 0), element_size=0.4)\n",
    "sphere.export_mesh(filename=\"grid_sphere\")"
   ]
  },
  {
   "cell_type": "code",
   "execution_count": 4,
   "metadata": {},
   "outputs": [
    {
     "name": "stdout",
     "output_type": "stream",
     "text": [
      "The geometry sphere has meshwidth 0.4\n"
     ]
    }
   ],
   "source": [
    "print(\"The geometry\", sphere.label, \"has meshwidth\", sphere.meshwidth)"
   ]
  },
  {
   "cell_type": "markdown",
   "metadata": {},
   "source": [
    "Let us create a cube as geometry and store it with a default name."
   ]
  },
  {
   "cell_type": "code",
   "execution_count": 5,
   "metadata": {},
   "outputs": [],
   "source": [
    "cube = optimus.geometry.shapes.Cube(length=1, origin=(0, 0, 0), element_size=0.3)\n",
    "cube.export_mesh()"
   ]
  },
  {
   "cell_type": "code",
   "execution_count": 6,
   "metadata": {},
   "outputs": [
    {
     "name": "stdout",
     "output_type": "stream",
     "text": [
      "The geometry cube has origin located at (0, 0, 0)\n"
     ]
    }
   ],
   "source": [
    "print(\"The geometry\", cube.label, \"has origin located at\", cube.origin)"
   ]
  },
  {
   "cell_type": "markdown",
   "metadata": {},
   "source": [
    "## Importing and exporting meshes\n",
    "\n",
    "Triangular surface meshes stored in Gmsh format can be imported as well. This allows using objects created with external grid generation software. Here, let us import the sphere mesh that was exported above. If the grid is stored in the same folder, only the filename with extensions needs to be specified. Otherwise, the full path needs to be given. Optionally, a label can be used to distinguish different geometries."
   ]
  },
  {
   "cell_type": "code",
   "execution_count": 7,
   "metadata": {},
   "outputs": [],
   "source": [
    "geometry = optimus.geometry.load.import_grid(\"grid_sphere.msh\", label=\"my_sphere\")"
   ]
  },
  {
   "cell_type": "code",
   "execution_count": 8,
   "metadata": {},
   "outputs": [
    {
     "name": "stdout",
     "output_type": "stream",
     "text": [
      "The geometry my_sphere was imported from the file grid_sphere.msh\n"
     ]
    }
   ],
   "source": [
    "print(\"The geometry\", geometry.label, \"was imported from the file\", geometry.filename)"
   ]
  },
  {
   "cell_type": "markdown",
   "metadata": {},
   "source": [
    "Finally, the BEMPP grids can be retrieved from the geometry, and BEMPP grids can be loaded for a geometry."
   ]
  },
  {
   "cell_type": "code",
   "execution_count": 9,
   "metadata": {},
   "outputs": [
    {
     "name": "stdout",
     "output_type": "stream",
     "text": [
      "The grid stored in the geometry cube is an instance of <class 'bempp.api.grid.grid.Grid'>\n"
     ]
    }
   ],
   "source": [
    "print(\"The grid stored in the geometry\", cube.label, \"is an instance of\", type(cube.grid))"
   ]
  },
  {
   "cell_type": "code",
   "execution_count": 10,
   "metadata": {},
   "outputs": [],
   "source": [
    "cube_from_bempp = optimus.geometry.load.bempp_grid(cube.grid)"
   ]
  },
  {
   "cell_type": "code",
   "execution_count": 11,
   "metadata": {},
   "outputs": [
    {
     "name": "stdout",
     "output_type": "stream",
     "text": [
      "The geometry bempp_grid is an instance of <class 'optimus.geometry.common.ImportedGeometry'>\n"
     ]
    }
   ],
   "source": [
    "print(\"The geometry\", cube_from_bempp.label, \"is an instance of\", type(cube_from_bempp))"
   ]
  },
  {
   "cell_type": "markdown",
   "metadata": {},
   "source": [
    "## View mesh statistics\n",
    "\n",
    "The library stores some statistical metrics of the grid of geometry objects, which can be printed as follows."
   ]
  },
  {
   "cell_type": "code",
   "execution_count": 12,
   "metadata": {},
   "outputs": [
    {
     "data": {
      "text/plain": [
       "<optimus.geometry.shapes.Sphere at 0x7f8cad63b390>"
      ]
     },
     "execution_count": 12,
     "metadata": {},
     "output_type": "execute_result"
    }
   ],
   "source": [
    "sphere"
   ]
  },
  {
   "cell_type": "code",
   "execution_count": 13,
   "metadata": {},
   "outputs": [
    {
     "name": "stdout",
     "output_type": "stream",
     "text": [
      "\n",
      " **********************************************************************\n",
      "Number of nodes: 118.\n",
      "\n",
      "Statistics about the element size in the triangular surface grid:\n",
      " Min: 2.76e-01\n",
      " Max: 5.44e-01\n",
      " AVG: 3.55e-01\n",
      " MED: 3.53e-01\n",
      " STD: 5.37e-02\n",
      "\n",
      "\n",
      " **********************************************************************\n"
     ]
    }
   ],
   "source": [
    "stats = optimus.utils.mesh.get_geometries_stats(sphere, verbose=True)"
   ]
  },
  {
   "cell_type": "markdown",
   "metadata": {},
   "source": [
    "The mesh statistics are stored in a dictionary, which allows using the numerical values."
   ]
  },
  {
   "cell_type": "code",
   "execution_count": 14,
   "metadata": {},
   "outputs": [
    {
     "name": "stdout",
     "output_type": "stream",
     "text": [
      "The average element size is: 0.3550471714571194\n"
     ]
    }
   ],
   "source": [
    "print(\"The average element size is:\", stats['elements_avg'])"
   ]
  },
  {
   "cell_type": "markdown",
   "metadata": {},
   "source": [
    "In case the scattering geometry involves multiple domains, the statistics can be retrieved by specifying a list of all domains."
   ]
  },
  {
   "cell_type": "code",
   "execution_count": 15,
   "metadata": {},
   "outputs": [
    {
     "name": "stdout",
     "output_type": "stream",
     "text": [
      "\n",
      " **********************************************************************\n",
      "Number of nodes in geometry 'sphere' is 118.\n",
      "\n",
      "Statistics about the element size in the triangular surface grid of geometry 'sphere':\n",
      " Min: 2.76e-01\n",
      " Max: 5.44e-01\n",
      " AVG: 3.55e-01\n",
      " MED: 3.53e-01\n",
      " STD: 5.37e-02\n",
      "\n",
      "Number of nodes in geometry 'cube' is 132.\n",
      "\n",
      "Statistics about the element size in the triangular surface grid of geometry 'cube':\n",
      " Min: 1.76e-01\n",
      " Max: 3.11e-01\n",
      " AVG: 2.33e-01\n",
      " MED: 2.40e-01\n",
      " STD: 2.82e-02\n",
      "\n",
      "The total number of nodes in all geometries is 250.\n",
      "\n",
      " **********************************************************************\n"
     ]
    }
   ],
   "source": [
    "stats = optimus.utils.mesh.get_geometries_stats([sphere, cube], verbose=True)"
   ]
  },
  {
   "cell_type": "code",
   "execution_count": 16,
   "metadata": {},
   "outputs": [
    {
     "name": "stdout",
     "output_type": "stream",
     "text": [
      "The maximum element size is 0.5441393047636461 in geometry sphere and 0.3112270039184207 in geometry cube\n"
     ]
    }
   ],
   "source": [
    "print(\"The maximum element size is\", stats['elements_max'][0], \"in geometry\", stats['label'][0],\n",
    "      \"and\", stats['elements_max'][1], \"in geometry\", stats['label'][1])"
   ]
  },
  {
   "cell_type": "code",
   "execution_count": null,
   "metadata": {},
   "outputs": [],
   "source": []
  }
 ],
 "metadata": {
  "kernelspec": {
   "display_name": "Python 3",
   "language": "python",
   "name": "python3"
  },
  "language_info": {
   "codemirror_mode": {
    "name": "ipython",
    "version": 3
   },
   "file_extension": ".py",
   "mimetype": "text/x-python",
   "name": "python",
   "nbconvert_exporter": "python",
   "pygments_lexer": "ipython3",
   "version": "3.5.2"
  }
 },
 "nbformat": 4,
 "nbformat_minor": 4
}
